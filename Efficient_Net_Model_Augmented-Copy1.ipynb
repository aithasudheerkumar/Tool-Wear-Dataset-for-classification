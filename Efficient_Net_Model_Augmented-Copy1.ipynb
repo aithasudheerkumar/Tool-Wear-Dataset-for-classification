{
 "cells": [
  {
   "cell_type": "code",
   "execution_count": 1,
   "id": "5bb376c8",
   "metadata": {},
   "outputs": [
    {
     "name": "stdout",
     "output_type": "stream",
     "text": [
      "['Chipping', 'Crater', 'Flank']\n",
      "Types of classes labels found:  3\n"
     ]
    }
   ],
   "source": [
    "import numpy as np\n",
    "import tensorflow as tf\n",
    "\n",
    "import numpy as np \n",
    "import pandas as pd \n",
    "import matplotlib.pyplot as plt\n",
    "import os\n",
    "\n",
    "\n",
    "#dataset = 'G:/Other computers/My_Laptop/Objective_1/Semantic Segmentation - U - Net/Efficient_Net_Classification/I_Dataset/'\n",
    "dataset_path = os.listdir('G:/Other computers/My_Laptop/Objective_1/Semantic Segmentation - U - Net/Efficient_Net_Classification/AI_Dataset/')\n",
    "\n",
    "print (dataset_path)  #what kinds of classes are in this dataset\n",
    "\n",
    "print(\"Types of classes labels found: \", len(dataset_path))"
   ]
  },
  {
   "cell_type": "code",
   "execution_count": 2,
   "id": "b91492ee",
   "metadata": {},
   "outputs": [],
   "source": [
    "class_labels = []\n",
    "\n",
    "for item in dataset_path:\n",
    " # Get all the file names\n",
    " all_classes = os.listdir('G:/Other computers/My_Laptop/Objective_1/Semantic Segmentation - U - Net/Efficient_Net_Classification/AI_Dataset/' + '/' +item)\n",
    " #print(all_classes)\n",
    "\n",
    " # Add them to the list\n",
    " for room in all_classes:\n",
    "    class_labels.append((item, str('dataset_path' + '/' +item) + '/' + room))\n",
    "    #print(class_labels[:5])"
   ]
  },
  {
   "cell_type": "code",
   "execution_count": 3,
   "id": "bb29889f",
   "metadata": {},
   "outputs": [
    {
     "name": "stdout",
     "output_type": "stream",
     "text": [
      "     Labels                         image\n",
      "0  Chipping   dataset_path/Chipping/6.jpg\n",
      "1  Chipping  dataset_path/Chipping/12.jpg\n",
      "2  Chipping  dataset_path/Chipping/18.jpg\n",
      "3  Chipping  dataset_path/Chipping/24.jpg\n",
      "4  Chipping  dataset_path/Chipping/30.jpg\n",
      "     Labels                        image\n",
      "3103  Flank  dataset_path/Flank/0995.png\n",
      "3104  Flank  dataset_path/Flank/0996.png\n",
      "3105  Flank  dataset_path/Flank/0997.png\n",
      "3106  Flank  dataset_path/Flank/0998.png\n",
      "3107  Flank  dataset_path/Flank/0999.png\n"
     ]
    }
   ],
   "source": [
    "# Build a dataframe        \n",
    "df = pd.DataFrame(data=class_labels, columns=['Labels', 'image'])\n",
    "print(df.head())\n",
    "print(df.tail())"
   ]
  },
  {
   "cell_type": "code",
   "execution_count": 4,
   "id": "8d52f9ef",
   "metadata": {},
   "outputs": [
    {
     "name": "stdout",
     "output_type": "stream",
     "text": [
      "Total number of images in the dataset:  3108\n",
      "Chipping    1036\n",
      "Crater      1036\n",
      "Flank       1036\n",
      "Name: Labels, dtype: int64\n"
     ]
    }
   ],
   "source": [
    "# Let's check how many samples for each category are present\n",
    "print(\"Total number of images in the dataset: \", len(df))\n",
    "\n",
    "label_count = df['Labels'].value_counts()\n",
    "print(label_count)"
   ]
  },
  {
   "cell_type": "code",
   "execution_count": 5,
   "id": "23e03320",
   "metadata": {},
   "outputs": [],
   "source": [
    "import cv2\n",
    "path = 'G:/Other computers/My_Laptop/Objective_1/Semantic Segmentation - U - Net/Efficient_Net_Classification/AI_Dataset/'\n",
    "dataset_path = os.listdir('G:/Other computers/My_Laptop/Objective_1/Semantic Segmentation - U - Net/Efficient_Net_Classification/AI_Dataset/')\n",
    "\n",
    "im_size = 300\n",
    "\n",
    "images = []\n",
    "labels = []\n",
    "\n",
    "for i in dataset_path:\n",
    "    data_path = path + str(i)  \n",
    "    filenames = [i for i in os.listdir(data_path) ]\n",
    "   \n",
    "    for f in filenames:\n",
    "        img = cv2.imread(data_path + '/' + f)\n",
    "        img = cv2.resize(img, (im_size, im_size))\n",
    "        images.append(img)\n",
    "        labels.append(i)"
   ]
  },
  {
   "cell_type": "code",
   "execution_count": 6,
   "id": "aa03febf",
   "metadata": {},
   "outputs": [
    {
     "data": {
      "text/plain": [
       "(3108, 300, 300, 3)"
      ]
     },
     "execution_count": 6,
     "metadata": {},
     "output_type": "execute_result"
    }
   ],
   "source": [
    "#This model takes input images of shape (224, 224, 3), and the input data should range [0, 255]. \n",
    "\n",
    "images = np.array(images)\n",
    "\n",
    "images = images.astype('float32') / 255.0\n",
    "images.shape"
   ]
  },
  {
   "cell_type": "code",
   "execution_count": 7,
   "id": "6fd53444",
   "metadata": {},
   "outputs": [
    {
     "name": "stdout",
     "output_type": "stream",
     "text": [
      "['Chipping' 'Chipping' 'Chipping' ... 'Flank' 'Flank' 'Flank']\n",
      "[0 0 0 ... 2 2 2]\n"
     ]
    }
   ],
   "source": [
    "from sklearn.preprocessing import LabelEncoder , OneHotEncoder\n",
    "y=df['Labels'].values\n",
    "print(y)\n",
    "\n",
    "y_labelencoder = LabelEncoder ()\n",
    "y = y_labelencoder.fit_transform (y)\n",
    "print (y)"
   ]
  },
  {
   "cell_type": "code",
   "execution_count": 8,
   "id": "e6d34bc6",
   "metadata": {},
   "outputs": [
    {
     "name": "stdout",
     "output_type": "stream",
     "text": [
      "[[1. 0. 0.]\n",
      " [1. 0. 0.]\n",
      " [1. 0. 0.]\n",
      " [1. 0. 0.]\n",
      " [1. 0. 0.]]\n",
      "[[1. 0. 0.]\n",
      " [1. 0. 0.]\n",
      " [1. 0. 0.]\n",
      " ...\n",
      " [0. 0. 1.]\n",
      " [0. 0. 1.]\n",
      " [0. 0. 1.]]\n"
     ]
    }
   ],
   "source": [
    "y=y.reshape(-1,1)\n",
    "\n",
    "from sklearn.compose import ColumnTransformer\n",
    "ct = ColumnTransformer([('my_ohe', OneHotEncoder(), [0])], remainder='passthrough')\n",
    "Y = ct.fit_transform(y) #.toarray()\n",
    "print(Y[:5])\n",
    "print(Y[35:])"
   ]
  },
  {
   "cell_type": "code",
   "execution_count": 9,
   "id": "e058dbb5",
   "metadata": {},
   "outputs": [
    {
     "name": "stdout",
     "output_type": "stream",
     "text": [
      "(2486, 300, 300, 3)\n",
      "(2486, 1)\n",
      "(622, 300, 300, 3)\n",
      "(622, 1)\n"
     ]
    }
   ],
   "source": [
    "from sklearn.utils import shuffle\n",
    "from sklearn.model_selection import train_test_split\n",
    "\n",
    "\n",
    "images, Y = shuffle(images, y, random_state=1)\n",
    "\n",
    "\n",
    "train_x, test_x, train_y, test_y = train_test_split(images, Y, test_size=0.2, random_state=415)\n",
    "\n",
    "#inpect the shape of the training and testing.\n",
    "print(train_x.shape)\n",
    "print(train_y.shape)\n",
    "print(test_x.shape)\n",
    "print(test_y.shape)"
   ]
  },
  {
   "cell_type": "code",
   "execution_count": 10,
   "id": "1106f64d",
   "metadata": {},
   "outputs": [],
   "source": [
    "train_y = tf.keras.utils.to_categorical(train_y, 3)\n",
    "test_y = tf.keras.utils.to_categorical(test_y, 3)"
   ]
  },
  {
   "cell_type": "code",
   "execution_count": 11,
   "id": "1a7916bb",
   "metadata": {},
   "outputs": [
    {
     "data": {
      "text/plain": [
       "array([[0., 1., 0.],\n",
       "       [1., 0., 0.],\n",
       "       [0., 0., 1.],\n",
       "       ...,\n",
       "       [1., 0., 0.],\n",
       "       [0., 1., 0.],\n",
       "       [1., 0., 0.]], dtype=float32)"
      ]
     },
     "execution_count": 11,
     "metadata": {},
     "output_type": "execute_result"
    }
   ],
   "source": [
    "train_y"
   ]
  },
  {
   "cell_type": "code",
   "execution_count": 12,
   "id": "fda42206",
   "metadata": {},
   "outputs": [],
   "source": [
    "from tensorflow.keras import layers\n",
    "from tensorflow.keras.applications import EfficientNetB3\n",
    "\n",
    "NUM_CLASSES = 3\n",
    "IMG_SIZE = 300\n",
    "size = (IMG_SIZE, IMG_SIZE)\n",
    "\n",
    "\n",
    "inputs = layers.Input(shape=(IMG_SIZE, IMG_SIZE, 3))\n",
    "\n",
    "\n",
    "# Using model without transfer learning\n",
    "\n",
    "outputs = EfficientNetB3(include_top=True, weights=None, classes=NUM_CLASSES)(inputs)"
   ]
  },
  {
   "cell_type": "code",
   "execution_count": 13,
   "id": "01434ca8",
   "metadata": {},
   "outputs": [
    {
     "name": "stdout",
     "output_type": "stream",
     "text": [
      "Model: \"model\"\n",
      "_________________________________________________________________\n",
      " Layer (type)                Output Shape              Param #   \n",
      "=================================================================\n",
      " input_1 (InputLayer)        [(None, 300, 300, 3)]     0         \n",
      "                                                                 \n",
      " efficientnetb3 (Functional)  (None, 3)                10788146  \n",
      "                                                                 \n",
      "=================================================================\n",
      "Total params: 10,788,146\n",
      "Trainable params: 10,700,843\n",
      "Non-trainable params: 87,303\n",
      "_________________________________________________________________\n",
      "Epoch 1/25\n",
      "78/78 - 1550s - loss: 1.3767 - accuracy: 0.6677 - 1550s/epoch - 20s/step\n",
      "Epoch 2/25\n",
      "78/78 - 1490s - loss: 0.4265 - accuracy: 0.8805 - 1490s/epoch - 19s/step\n",
      "Epoch 3/25\n",
      "78/78 - 1512s - loss: 0.1494 - accuracy: 0.9525 - 1512s/epoch - 19s/step\n",
      "Epoch 4/25\n",
      "78/78 - 1475s - loss: 0.0921 - accuracy: 0.9682 - 1475s/epoch - 19s/step\n",
      "Epoch 5/25\n",
      "78/78 - 1603s - loss: 0.2503 - accuracy: 0.9525 - 1603s/epoch - 21s/step\n",
      "Epoch 6/25\n",
      "78/78 - 1468s - loss: 0.0809 - accuracy: 0.9771 - 1468s/epoch - 19s/step\n",
      "Epoch 7/25\n",
      "78/78 - 1456s - loss: 0.0649 - accuracy: 0.9819 - 1456s/epoch - 19s/step\n",
      "Epoch 8/25\n",
      "78/78 - 1587s - loss: 0.0850 - accuracy: 0.9795 - 1587s/epoch - 20s/step\n",
      "Epoch 9/25\n",
      "78/78 - 1626s - loss: 0.0509 - accuracy: 0.9839 - 1626s/epoch - 21s/step\n",
      "Epoch 10/25\n",
      "78/78 - 1494s - loss: 0.2207 - accuracy: 0.9372 - 1494s/epoch - 19s/step\n",
      "Epoch 11/25\n",
      "78/78 - 1513s - loss: 0.1637 - accuracy: 0.9509 - 1513s/epoch - 19s/step\n",
      "Epoch 12/25\n",
      "78/78 - 1468s - loss: 0.0986 - accuracy: 0.9722 - 1468s/epoch - 19s/step\n",
      "Epoch 13/25\n",
      "78/78 - 1540s - loss: 0.0950 - accuracy: 0.9726 - 1540s/epoch - 20s/step\n",
      "Epoch 14/25\n",
      "78/78 - 1491s - loss: 0.0379 - accuracy: 0.9883 - 1491s/epoch - 19s/step\n",
      "Epoch 15/25\n",
      "78/78 - 1534s - loss: 0.0387 - accuracy: 0.9895 - 1534s/epoch - 20s/step\n",
      "Epoch 16/25\n",
      "78/78 - 1525s - loss: 0.0235 - accuracy: 0.9924 - 1525s/epoch - 20s/step\n",
      "Epoch 17/25\n",
      "78/78 - 1515s - loss: 0.0241 - accuracy: 0.9932 - 1515s/epoch - 19s/step\n",
      "Epoch 18/25\n",
      "78/78 - 1464s - loss: 0.0300 - accuracy: 0.9932 - 1464s/epoch - 19s/step\n",
      "Epoch 19/25\n",
      "78/78 - 1552s - loss: 0.0153 - accuracy: 0.9960 - 1552s/epoch - 20s/step\n",
      "Epoch 20/25\n",
      "78/78 - 1457s - loss: 0.0159 - accuracy: 0.9952 - 1457s/epoch - 19s/step\n",
      "Epoch 21/25\n",
      "78/78 - 1489s - loss: 0.0148 - accuracy: 0.9968 - 1489s/epoch - 19s/step\n",
      "Epoch 22/25\n",
      "78/78 - 1470s - loss: 0.0149 - accuracy: 0.9980 - 1470s/epoch - 19s/step\n",
      "Epoch 23/25\n",
      "78/78 - 1448s - loss: 0.0225 - accuracy: 0.9932 - 1448s/epoch - 19s/step\n",
      "Epoch 24/25\n",
      "78/78 - 1424s - loss: 0.0375 - accuracy: 0.9912 - 1424s/epoch - 18s/step\n",
      "Epoch 25/25\n",
      "78/78 - 1534s - loss: 0.0427 - accuracy: 0.9883 - 1534s/epoch - 20s/step\n"
     ]
    }
   ],
   "source": [
    "model = tf.keras.Model(inputs, outputs)\n",
    "\n",
    "model.compile(optimizer=\"adam\", loss=\"categorical_crossentropy\", metrics=[\"accuracy\"] )\n",
    "\n",
    "model.summary()\n",
    "\n",
    "hist = model.fit(train_x, train_y, epochs=25, verbose=2)c"
   ]
  },
  {
   "cell_type": "code",
   "execution_count": 14,
   "id": "8a7ebe1f",
   "metadata": {},
   "outputs": [],
   "source": [
    "from tensorflow.keras.models import load_model\n",
    "model.save('Efficient_Aug_25-1epochs.hdf5')"
   ]
  },
  {
   "cell_type": "code",
   "execution_count": 15,
   "id": "5d3d4a41",
   "metadata": {},
   "outputs": [],
   "source": [
    "from tensorflow.keras.models import load_model\n",
    "my_model = load_model('Efficient_Aug_25-1epochs.hdf5', \n",
    "                      compile=False)"
   ]
  },
  {
   "cell_type": "code",
   "execution_count": null,
   "id": "c81be743",
   "metadata": {},
   "outputs": [],
   "source": [
    "preds = model.evaluate(test_x)"
   ]
  },
  {
   "cell_type": "code",
   "execution_count": null,
   "id": "d96e8839",
   "metadata": {},
   "outputs": [],
   "source": [
    "preds"
   ]
  },
  {
   "cell_type": "code",
   "execution_count": 16,
   "id": "e5b31338",
   "metadata": {},
   "outputs": [],
   "source": [
    "from sklearn.metrics import confusion_matrix\n",
    "from sklearn.metrics import plot_confusion_matrix"
   ]
  },
  {
   "cell_type": "code",
   "execution_count": 17,
   "id": "eefc5d3f",
   "metadata": {},
   "outputs": [],
   "source": [
    "class_names = [0,1,2]"
   ]
  },
  {
   "cell_type": "code",
   "execution_count": 18,
   "id": "9c61cb05",
   "metadata": {},
   "outputs": [
    {
     "data": {
      "text/plain": [
       "array([0, 0, 0, 0, 0, 0, 2, 2, 0, 0, 1, 2, 1, 2, 0, 1, 2, 2, 2, 1, 1, 2,\n",
       "       1, 2, 1, 2, 0, 2, 1, 2, 2, 2, 2, 2, 0, 1, 1, 1, 0, 1, 0, 2, 2, 1,\n",
       "       2, 0, 2, 0, 0, 0, 0, 1, 2, 0, 2, 1, 0, 2, 0, 0, 0, 1, 2, 1, 0, 1,\n",
       "       1, 1, 0, 1, 2, 1, 1, 1, 0, 1, 0, 2, 0, 0, 2, 1, 1, 0, 1, 1, 0, 1,\n",
       "       2, 0, 2, 0, 0, 1, 2, 1, 0, 0, 1, 2, 2, 0, 0, 0, 2, 2, 2, 1, 1, 0,\n",
       "       1, 2, 2, 1, 1, 1, 2, 0, 2, 1, 0, 0, 1, 0, 2, 2, 0, 0, 0, 2, 2, 0,\n",
       "       2, 0, 0, 1, 2, 2, 1, 1, 2, 1, 1, 1, 1, 2, 2, 0, 0, 2, 0, 1, 0, 0,\n",
       "       0, 2, 2, 2, 0, 2, 0, 1, 2, 0, 0, 2, 2, 1, 1, 1, 2, 1, 1, 0, 0, 2,\n",
       "       2, 2, 2, 0, 0, 2, 1, 0, 0, 1, 1, 0, 1, 0, 0, 0, 2, 1, 0, 0, 2, 2,\n",
       "       0, 2, 2, 2, 2, 0, 1, 1, 1, 1, 2, 2, 2, 1, 2, 2, 1, 2, 0, 1, 1, 0,\n",
       "       0, 2, 0, 1, 2, 1, 1, 1, 1, 2, 2, 1, 0, 1, 1, 0, 0, 0, 0, 1, 0, 2,\n",
       "       1, 2, 1, 2, 2, 2, 1, 1, 0, 0, 2, 0, 2, 1, 1, 2, 0, 0, 2, 0, 2, 1,\n",
       "       0, 1, 0, 0, 1, 2, 2, 2, 1, 0, 2, 2, 2, 1, 0, 2, 1, 1, 1, 1, 0, 2,\n",
       "       1, 2, 2, 2, 1, 2, 0, 2, 0, 2, 2, 1, 2, 1, 1, 1, 2, 2, 0, 2, 2, 1,\n",
       "       0, 0, 2, 2, 1, 0, 2, 2, 1, 1, 0, 0, 2, 1, 1, 2, 1, 2, 0, 1, 0, 1,\n",
       "       2, 1, 0, 2, 2, 0, 2, 0, 2, 1, 2, 2, 1, 1, 1, 2, 1, 1, 1, 0, 1, 0,\n",
       "       2, 0, 0, 2, 0, 0, 0, 1, 2, 1, 2, 2, 2, 2, 0, 2, 1, 1, 1, 2, 1, 0,\n",
       "       0, 2, 0, 1, 1, 0, 2, 1, 2, 0, 0, 2, 2, 2, 1, 1, 2, 2, 0, 2, 2, 1,\n",
       "       0, 2, 1, 1, 0, 1, 2, 0, 0, 2, 1, 0, 2, 2, 0, 2, 2, 2, 1, 0, 2, 0,\n",
       "       0, 1, 1, 1, 2, 2, 1, 0, 2, 0, 2, 0, 1, 2, 0, 2, 1, 0, 1, 0, 2, 0,\n",
       "       1, 0, 1, 2, 0, 2, 2, 0, 1, 2, 0, 2, 1, 2, 2, 0, 2, 1, 1, 2, 0, 1,\n",
       "       0, 1, 2, 2, 0, 1, 0, 0, 0, 0, 1, 1, 2, 1, 0, 1, 0, 2, 1, 0, 0, 2,\n",
       "       2, 0, 0, 2, 0, 0, 0, 1, 2, 0, 2, 1, 0, 1, 2, 2, 1, 2, 0, 2, 0, 1,\n",
       "       0, 0, 1, 0, 2, 2, 2, 0, 2, 2, 1, 2, 0, 0, 1, 1, 0, 1, 1, 2, 0, 2,\n",
       "       0, 0, 1, 1, 0, 0, 0, 0, 2, 0, 0, 2, 0, 1, 1, 2, 2, 0, 2, 1, 2, 2,\n",
       "       0, 0, 2, 0, 1, 1, 2, 0, 0, 0, 1, 2, 2, 1, 2, 2, 0, 1, 2, 2, 2, 0,\n",
       "       2, 1, 1, 1, 1, 1, 1, 2, 2, 0, 0, 0, 1, 1, 1, 0, 1, 0, 1, 0, 1, 2,\n",
       "       1, 1, 0, 2, 1, 1, 1, 1, 0, 0, 2, 2, 0, 1, 2, 1, 2, 2, 0, 0, 1, 0,\n",
       "       0, 0, 2, 2, 2, 2], dtype=int64)"
      ]
     },
     "execution_count": 18,
     "metadata": {},
     "output_type": "execute_result"
    }
   ],
   "source": [
    "import numpy as np\n",
    "rounded_labels=np.argmax(test_y, axis=1)\n",
    "rounded_labels"
   ]
  },
  {
   "cell_type": "code",
   "execution_count": 19,
   "id": "543e2b26",
   "metadata": {},
   "outputs": [],
   "source": [
    "class estimator:\n",
    "    _estimator_type = ''\n",
    "    classes_=[]\n",
    "    def __init__(self, model, classes):\n",
    "        self.model = model\n",
    "        self._estimator_type = 'classifier'\n",
    "        self.classes_ = classes\n",
    "    def predict(self, X):\n",
    "        y_prob= self.model.predict(X)\n",
    "        y_pred = y_prob.argmax(axis=1)\n",
    "        return y_pred\n",
    "\n",
    "classifier = estimator(model, class_names)"
   ]
  },
  {
   "cell_type": "code",
   "execution_count": 20,
   "id": "00d29e8f",
   "metadata": {},
   "outputs": [
    {
     "name": "stderr",
     "output_type": "stream",
     "text": [
      "C:\\Users\\Aitha Sudheer Kumar\\AppData\\Local\\Programs\\Python\\Python310\\lib\\site-packages\\sklearn\\utils\\deprecation.py:87: FutureWarning: Function plot_confusion_matrix is deprecated; Function `plot_confusion_matrix` is deprecated in 1.0 and will be removed in 1.2. Use one of the class methods: ConfusionMatrixDisplay.from_predictions or ConfusionMatrixDisplay.from_estimator.\n",
      "  warnings.warn(msg, category=FutureWarning)\n"
     ]
    },
    {
     "name": "stdout",
     "output_type": "stream",
     "text": [
      "20/20 [==============================] - 87s 4s/step\n"
     ]
    },
    {
     "data": {
      "text/plain": [
       "<sklearn.metrics._plot.confusion_matrix.ConfusionMatrixDisplay at 0x20380afff40>"
      ]
     },
     "execution_count": 20,
     "metadata": {},
     "output_type": "execute_result"
    },
    {
     "data": {
      "image/png": "[encoded data removed]",
      "text/plain": [
       "<Figure size 432x288 with 2 Axes>"
      ]
     },
     "metadata": {
      "needs_background": "light"
     },
     "output_type": "display_data"
    }
   ],
   "source": [
    "plot_confusion_matrix(estimator=classifier, X=test_x, y_true=rounded_labels)"
   ]
  },
  {
   "cell_type": "code",
   "execution_count": 21,
   "id": "409d4163",
   "metadata": {},
   "outputs": [
    {
     "name": "stdout",
     "output_type": "stream",
     "text": [
      "20/20 [==============================] - 82s 4s/step - loss: 0.2093 - accuracy: 0.9952\n",
      "Loss = 0.20925621688365936\n",
      "Test Accuracy = 0.9951768517494202\n"
     ]
    }
   ],
   "source": [
    "preds = model.evaluate(test_x, test_y)\n",
    "print (\"Loss = \" + str(preds[0]))\n",
    "print (\"Test Accuracy = \" + str(preds[1]))"
   ]
  },
  {
   "cell_type": "code",
   "execution_count": null,
   "id": "95b88b5f",
   "metadata": {},
   "outputs": [],
   "source": [
    "import matplotlib.pyplot as plt\n",
    "\n",
    "\n",
    "def plot_hist(hist):\n",
    "    plt.plot(hist.history[\"accuracy\"])\n",
    "    #plt.plot(hist.history[\"val_accuracy\"])\n",
    "    plt.title(\"model accuracy\")\n",
    "    plt.ylabel(\"accuracy\")\n",
    "    plt.xlabel(\"epoch\")\n",
    "    plt.legend([\"train\", \"validation\"], loc=\"upper left\")\n",
    "    plt.show()\n",
    "\n",
    "\n",
    "plot_hist(hist)"
   ]
  },
  {
   "cell_type": "code",
   "execution_count": null,
   "id": "813f7420",
   "metadata": {},
   "outputs": [],
   "source": [
    "from sklearn.metrics import confusion_matrix\n",
    "from sklearn.metrics import plot_confusion_matrix"
   ]
  },
  {
   "cell_type": "code",
   "execution_count": null,
   "id": "0f91af2a",
   "metadata": {},
   "outputs": [],
   "source": [
    "preds = model.evaluate(test_x, test_y)"
   ]
  },
  {
   "cell_type": "code",
   "execution_count": null,
   "id": "44c4cba1",
   "metadata": {},
   "outputs": [],
   "source": []
  },
  {
   "cell_type": "code",
   "execution_count": null,
   "id": "d96ba888",
   "metadata": {},
   "outputs": [],
   "source": [
    "from matplotlib.pyplot import imread\n",
    "from matplotlib.pyplot import imshow\n",
    "from tensorflow.keras.preprocessing import image\n",
    "from tensorflow.keras.applications.imagenet_utils import decode_predictions\n",
    "from tensorflow.keras.applications.imagenet_utils import preprocess_input\n",
    "\n",
    "img_path = 'G:/Other computers/My_Laptop/Objective_1/Semantic Segmentation - U - Net/Efficient_Net_Classification/I_Dataset/Flank/100.jpg'\n",
    "\n",
    "\n",
    "img = cv2.imread(img_path)\n",
    "img = cv2.resize(img, (300, 300))\n",
    "\n",
    "x = np.expand_dims(img, axis=0)\n",
    "x = preprocess_input(x)\n",
    "\n",
    "print('Input image shape:', x.shape)\n",
    "\n",
    "my_image = imread(img_path)\n",
    "imshow(img)\n",
    "\n",
    "\n",
    "\n",
    "preds=model.predict(x)\n",
    "print(\"predicted class: \", preds )    # probabilities for being in each of the 3 classes"
   ]
  },
  {
   "cell_type": "code",
   "execution_count": null,
   "id": "6d53ab41",
   "metadata": {},
   "outputs": [],
   "source": [
    "from keras.utils import to_categorical\n",
    "testY = to_categorical(test_y)"
   ]
  },
  {
   "cell_type": "code",
   "execution_count": null,
   "id": "525a9a19",
   "metadata": {},
   "outputs": [],
   "source": []
  },
  {
   "cell_type": "code",
   "execution_count": null,
   "id": "606e6875",
   "metadata": {},
   "outputs": [],
   "source": []
  }
 ],
 "metadata": {
  "kernelspec": {
   "display_name": "Python 3 (ipykernel)",
   "language": "python",
   "name": "python3"
  },
  "language_info": {
   "codemirror_mode": {
    "name": "ipython",
    "version": 3
   },
   "file_extension": ".py",
   "mimetype": "text/x-python",
   "name": "python",
   "nbconvert_exporter": "python",
   "pygments_lexer": "ipython3",
   "version": "3.10.4"
  }
 },
 "nbformat": 4,
 "nbformat_minor": 5
}
